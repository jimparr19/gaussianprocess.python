{
 "cells": [
  {
   "cell_type": "markdown",
   "metadata": {},
   "source": [
    "# A practical introduction to Gaussian Processes\n",
    "\n",
    "In the area of machine learning, Gaussian Processes are one of the most promising methods for supervised learning problems. We focus on regression in this inptroduction but the ideas can also be applied to classification.\n",
    "\n",
    "Methods popular in other fields of statistics and engineering share similarities to Gaussian Processes. For regression, Kriging (originates in the field of geostatistics) is a popular method in engineering sciences. Kriging differs in the treatment of parameter uncertainty and may be viewed as a frequentists version of Gaussian Processes. In classification, Gaussian Processes can be viewed as a Baysian version of Support Vector Machines whilst Neural Networks can be viewed as an approximate Gaussian Process.\n",
    "\n",
    "Here we aim to provide a practical introduction to Gaussian Processes and not concern ourselves with the mathematical details and differences in frequentists and Bayesain approaches. \n",
    "\n",
    "Hopefully by the end of the tutorial, the basic building blocks of Gaussian Proccesses are understood and can be applied to solve a range of problems!\n",
    "\n",
    "Before we start, lets concider the simple regression problem below.\n",
    "\n",
    "![](simple_regression.png)\n",
    "\n",
    "Given the observed data points (in red), there are many funcions that explain the data equally well (in blue). So how do we chose from the many possble functions that fit this data? \n",
    "\n",
    "It is common practice to reduce the number of possible functions to a single family such as a linear or possibly quadratic polyomial. Such models are concidered to be *parametric* and any unknown parameters (the polynomial coefficients) are infered as a part of the model training process.\n",
    "\n",
    "Although parametric approches are popular, there are cases where there is little or no prior knowledge regarding which family of functions or parametric forms to use. We may however have some less specific knowlege regarding the underlying process such as it being smooth and continuous. *Non-parametric* methods work with an infinite space of funcions that have these characteristics (no parametric form is assumed).\n",
    "\n",
    "Gaussian Processes are non-parametric whilst providing a principled handling of uncertianty."
   ]
  },
  {
   "cell_type": "markdown",
   "metadata": {},
   "source": [
    "## Let's begin...\n",
    "To begin it is important to introduce the idea of a stochastic variables and a stocahtic process. \n",
    "\n",
    "Visualising a random variable isn't that interesting but lets do it anyway... press the button to randomly draw realisations from the stochatic variable."
   ]
  },
  {
   "cell_type": "code",
   "execution_count": 2,
   "metadata": {
    "collapsed": false
   },
   "outputs": [],
   "source": [
    "import numpy as np"
   ]
  },
  {
   "cell_type": "markdown",
   "metadata": {},
   "source": [
    "Note: that this stochatic process is based on a a radom process given with a mean of zero and a standard deviation of one."
   ]
  },
  {
   "cell_type": "markdown",
   "metadata": {},
   "source": [
    "A stochastic process is essentially the generalisation of a stochatic variable to functions."
   ]
  },
  {
   "cell_type": "code",
   "execution_count": 28,
   "metadata": {
    "collapsed": false
   },
   "outputs": [],
   "source": [
    "number_of_samples = 1000\n",
    "I = np.eye(number_of_samples)\n",
    "m = np.zeros(number_of_samples)\n",
    "ui = np.random.multivariate_normal(m,I)\n",
    "xi = np.linspace(-5,5,number_of_samples)"
   ]
  },
  {
   "cell_type": "code",
   "execution_count": 29,
   "metadata": {
    "collapsed": false
   },
   "outputs": [
    {
     "data": {
      "text/plain": [
       "[<matplotlib.lines.Line2D at 0x1904f124c18>]"
      ]
     },
     "execution_count": 29,
     "metadata": {},
     "output_type": "execute_result"
    },
    {
     "data": {
      "image/png": "[encoded data removed]",
      "text/plain": [
       "<matplotlib.figure.Figure at 0x1904ed04358>"
      ]
     },
     "metadata": {},
     "output_type": "display_data"
    }
   ],
   "source": [
    "plt.plot(xi,ui)"
   ]
  },
  {
   "cell_type": "code",
   "execution_count": 19,
   "metadata": {
    "collapsed": false
   },
   "outputs": [
    {
     "data": {
      "text/plain": [
       "(array([   2.,    5.,   30.,  101.,  224.,  294.,  192.,  110.,   37.,    5.]),\n",
       " array([-4.0770488 , -3.3390036 , -2.60095839, -1.86291319, -1.12486799,\n",
       "        -0.38682278,  0.35122242,  1.08926762,  1.82731283,  2.56535803,\n",
       "         3.30340324]),\n",
       " <a list of 10 Patch objects>)"
      ]
     },
     "execution_count": 19,
     "metadata": {},
     "output_type": "execute_result"
    },
    {
     "data": {
      "image/png": "[encoded data removed]",
      "text/plain": [
       "<matplotlib.figure.Figure at 0x1904d17ba20>"
      ]
     },
     "metadata": {},
     "output_type": "display_data"
    }
   ],
   "source": [
    "import matplotlib.pylab as plt\n",
    "%matplotlib inline\n",
    "plt.hist(xi)"
   ]
  },
  {
   "cell_type": "markdown",
   "metadata": {},
   "source": [
    "Note: These samples are drawn from a Gaussian Process with a zero mean and a squared exponential covariance (more on these two later)"
   ]
  },
  {
   "cell_type": "markdown",
   "metadata": {
    "collapsed": true
   },
   "source": [
    "## Adding data\n",
    "Things become a little more interesting when we begin to add data. To help illustrate what happends when we add data, lets start with two random varaibles that have a joint distribution. \n",
    "\n",
    "Because of the relationship implied by the covariance, information about one variable reduces the uncertainty in the other. As we add data, we are essentially norrowing things down. This is the same for a Gaussian Process so lets take a look..."
   ]
  },
  {
   "cell_type": "markdown",
   "metadata": {},
   "source": [
    "...press the button the see the effect on the possible distrbution of functions"
   ]
  },
  {
   "cell_type": "markdown",
   "metadata": {},
   "source": [
    "## Impact of hyperparameters"
   ]
  },
  {
   "cell_type": "code",
   "execution_count": null,
   "metadata": {
    "collapsed": true
   },
   "outputs": [],
   "source": []
  },
  {
   "cell_type": "markdown",
   "metadata": {},
   "source": [
    "## Tuning hyperparamers"
   ]
  },
  {
   "cell_type": "markdown",
   "metadata": {
    "collapsed": true
   },
   "source": [
    "## References\n"
   ]
  },
  {
   "cell_type": "code",
   "execution_count": null,
   "metadata": {
    "collapsed": true
   },
   "outputs": [],
   "source": []
  },
  {
   "cell_type": "code",
   "execution_count": null,
   "metadata": {
    "collapsed": true
   },
   "outputs": [],
   "source": []
  }
 ],
 "metadata": {
  "anaconda-cloud": {},
  "kernelspec": {
   "display_name": "Python [Root]",
   "language": "python",
   "name": "Python [Root]"
  },
  "language_info": {
   "codemirror_mode": {
    "name": "ipython",
    "version": 3
   },
   "file_extension": ".py",
   "mimetype": "text/x-python",
   "name": "python",
   "nbconvert_exporter": "python",
   "pygments_lexer": "ipython3",
   "version": "3.5.1"
  }
 },
 "nbformat": 4,
 "nbformat_minor": 0
}
